{
 "cells": [
  {
   "cell_type": "code",
   "execution_count": 18,
   "metadata": {},
   "outputs": [
    {
     "data": {
      "text/plain": [
       "'c:\\\\Users\\\\hp\\\\Documents\\\\iNeuron_intern\\\\covid_mask'"
      ]
     },
     "execution_count": 18,
     "metadata": {},
     "output_type": "execute_result"
    }
   ],
   "source": [
    "import os\n",
    "os.chdir(\"../\")\n",
    "os.getcwd()"
   ]
  },
  {
   "cell_type": "code",
   "execution_count": 2,
   "metadata": {},
   "outputs": [],
   "source": [
    "from covid_md.utils import read_yaml, create_directories\n",
    "from covid_md.constant import *\n",
    "import numpy as np"
   ]
  },
  {
   "cell_type": "code",
   "execution_count": 3,
   "metadata": {},
   "outputs": [],
   "source": [
    "from sklearn.model_selection import train_test_split\n",
    "from keras.models import Sequential\n",
    "from keras.layers import Dense,Activation,Flatten,Dropout\n",
    "from keras.layers import Conv2D,MaxPooling2D\n",
    "from keras.callbacks import ModelCheckpoint"
   ]
  },
  {
   "cell_type": "code",
   "execution_count": 27,
   "metadata": {},
   "outputs": [],
   "source": [
    "from pathlib import Path\n",
    "from dataclasses import dataclass\n",
    "\n",
    "@dataclass(frozen=True)\n",
    "class DataTrainingConfig:\n",
    "    root_dir: Path\n",
    "    data_path: Path\n",
    "    test_size: float\n",
    "    monitor: str\n",
    "    verbose: int\n",
    "    save_best_only: bool\n",
    "    mode: str\n",
    "    epochs: int\n",
    "    validation_split: float\n",
    "    model: str"
   ]
  },
  {
   "cell_type": "code",
   "execution_count": null,
   "metadata": {},
   "outputs": [],
   "source": []
  },
  {
   "cell_type": "code",
   "execution_count": 28,
   "metadata": {},
   "outputs": [],
   "source": [
    "class ConfigurationManager:\n",
    "    def __init__(self, config_filepath= CONFIG_FILE_PATH, params_filepath= PARAMS_FILE_PATH):\n",
    "        self.config= read_yaml(config_filepath)\n",
    "        self.params= read_yaml(params_filepath)\n",
    "        create_directories([self.config.artifacts_root])\n",
    "    def get_data_training_config(self)-> DataTrainingConfig:\n",
    "        config= self.config.data_training\n",
    "        params= self.params.training\n",
    "        create_directories([config.root_dir])\n",
    "        data_training_config= DataTrainingConfig(\n",
    "            root_dir= config.root_dir,\n",
    "            data_path= config.data_path,\n",
    "            test_size= params.test_size,\n",
    "            monitor= params.monitor,\n",
    "            verbose= params.verbose,\n",
    "            save_best_only= params.save_best_only,\n",
    "            mode= params.mode,\n",
    "            epochs= params.epochs,\n",
    "            validation_split= params.validation_split,\n",
    "            model= params.model\n",
    "        )\n",
    "        return data_training_config"
   ]
  },
  {
   "cell_type": "code",
   "execution_count": 41,
   "metadata": {},
   "outputs": [],
   "source": [
    "class DataTraining:\n",
    "    def __init__(self,config: DataTrainingConfig):\n",
    "        self.config= config\n",
    "    def load_data(self):\n",
    "        os.chdir(self.config.data_path)\n",
    "        data= np.load('data.npy')\n",
    "        target= np.load('target.npy')\n",
    "        os.chdir(\"../../\")\n",
    "        return data, target\n",
    "    def training_skeleton(self,data):\n",
    "        model= Sequential()\n",
    "\n",
    "        model.add(Conv2D(200,(3,3),input_shape= data.shape[1:]))\n",
    "        model.add(Activation('relu'))\n",
    "        model.add(MaxPooling2D(pool_size=(2,2)))\n",
    "\n",
    "        model.add(Conv2D(100,(3,3)))\n",
    "        model.add(Activation('relu'))\n",
    "        model.add(MaxPooling2D(pool_size=(2,2)))\n",
    "\n",
    "        model.add(Flatten())\n",
    "        model.add(Dropout(0.5))\n",
    "        model.add(Dense(50, activation='relu'))\n",
    "        model.add(Dense(2, activation= 'softmax'))\n",
    "\n",
    "        model.compile(loss= 'categorical_crossentropy', optimizer= 'adam', metrics= ['accuracy'])\n",
    "        return model\n",
    "    def split_data(self, data, target):\n",
    "        test_size= self.config.test_size\n",
    "        train_data,test_data,train_target,test_target= train_test_split(data,target, test_size= test_size)\n",
    "        return train_data,test_data,train_target,test_target\n",
    "    def checkpoint(self):\n",
    "        model= self.config.model\n",
    "        monitor= self.config.monitor\n",
    "        verbose= self.config.verbose\n",
    "        best_model= self.config.save_best_only\n",
    "        mode= self.config.mode\n",
    "        cp= ModelCheckpoint(model, monitor= monitor, verbose= verbose, save_best_only= best_model, mode= mode)\n",
    "        return cp\n",
    "    def final_training(self,train_data, train_target,checkpoint,model):\n",
    "        epochs= self.config.epochs\n",
    "        validation_split= self.config.validation_split\n",
    "        os.chdir(self.config.root_dir)\n",
    "        history= model.fit(train_data, train_target, epochs= epochs, callbacks= [checkpoint], validation_split= validation_split)\n",
    "        os.chdir(\"../../\")\n",
    "        return history"
   ]
  },
  {
   "cell_type": "code",
   "execution_count": 43,
   "metadata": {},
   "outputs": [
    {
     "name": "stdout",
     "output_type": "stream",
     "text": [
      "Epoch 1/20\n",
      "2/2 [==============================] - 81s 40s/step - loss: 0.8107 - accuracy: 0.5200 - val_loss: 0.7033 - val_accuracy: 0.6154\n",
      "Epoch 2/20\n",
      "2/2 [==============================] - 12s 10s/step - loss: 0.7978 - accuracy: 0.5000 - val_loss: 0.6972 - val_accuracy: 0.3846\n",
      "Epoch 3/20\n",
      "2/2 [==============================] - 4s 2s/step - loss: 0.6982 - accuracy: 0.5000 - val_loss: 0.7032 - val_accuracy: 0.3846\n",
      "Epoch 4/20\n",
      "2/2 [==============================] - 8s 5s/step - loss: 0.6877 - accuracy: 0.5000 - val_loss: 0.6701 - val_accuracy: 0.6154\n",
      "Epoch 5/20\n",
      "2/2 [==============================] - 12s 10s/step - loss: 0.6889 - accuracy: 0.5000 - val_loss: 0.6607 - val_accuracy: 0.6154\n",
      "Epoch 6/20\n",
      "2/2 [==============================] - 5s 2s/step - loss: 0.6645 - accuracy: 0.6800 - val_loss: 0.6953 - val_accuracy: 0.3846\n",
      "Epoch 7/20\n",
      "2/2 [==============================] - 8s 5s/step - loss: 0.6775 - accuracy: 0.5000 - val_loss: 0.6269 - val_accuracy: 1.0000\n",
      "Epoch 8/20\n",
      "2/2 [==============================] - 8s 5s/step - loss: 0.6291 - accuracy: 0.7600 - val_loss: 0.5787 - val_accuracy: 0.6154\n",
      "Epoch 9/20\n",
      "2/2 [==============================] - 8s 6s/step - loss: 0.6176 - accuracy: 0.6000 - val_loss: 0.5782 - val_accuracy: 1.0000\n",
      "Epoch 10/20\n",
      "2/2 [==============================] - 7s 5s/step - loss: 0.5462 - accuracy: 0.9800 - val_loss: 0.5299 - val_accuracy: 1.0000\n",
      "Epoch 11/20\n",
      "2/2 [==============================] - 7s 5s/step - loss: 0.5070 - accuracy: 0.9200 - val_loss: 0.4263 - val_accuracy: 1.0000\n",
      "Epoch 12/20\n",
      "2/2 [==============================] - 8s 5s/step - loss: 0.4309 - accuracy: 0.8800 - val_loss: 0.3376 - val_accuracy: 1.0000\n",
      "Epoch 13/20\n",
      "2/2 [==============================] - 4s 2s/step - loss: 0.3786 - accuracy: 0.8200 - val_loss: 0.4144 - val_accuracy: 0.7692\n",
      "Epoch 14/20\n",
      "2/2 [==============================] - 13s 10s/step - loss: 0.3826 - accuracy: 0.8000 - val_loss: 0.2570 - val_accuracy: 0.8462\n",
      "Epoch 15/20\n",
      "2/2 [==============================] - 13s 9s/step - loss: 0.5331 - accuracy: 0.7400 - val_loss: 0.1870 - val_accuracy: 1.0000\n",
      "Epoch 16/20\n",
      "2/2 [==============================] - 5s 2s/step - loss: 0.1953 - accuracy: 0.9800 - val_loss: 0.6239 - val_accuracy: 0.4615\n",
      "Epoch 17/20\n",
      "2/2 [==============================] - 4s 2s/step - loss: 0.4184 - accuracy: 0.7200 - val_loss: 0.2357 - val_accuracy: 1.0000\n",
      "Epoch 18/20\n",
      "2/2 [==============================] - 4s 2s/step - loss: 0.2417 - accuracy: 0.9400 - val_loss: 0.2288 - val_accuracy: 0.9231\n",
      "Epoch 19/20\n",
      "2/2 [==============================] - 5s 2s/step - loss: 0.2798 - accuracy: 0.8600 - val_loss: 0.2147 - val_accuracy: 0.9231\n",
      "Epoch 20/20\n",
      "2/2 [==============================] - 7s 5s/step - loss: 0.2302 - accuracy: 0.9600 - val_loss: 0.1446 - val_accuracy: 1.0000\n"
     ]
    }
   ],
   "source": [
    "try:\n",
    "    config= ConfigurationManager()\n",
    "    data_training_config= config.get_data_training_config()\n",
    "    data_training= DataTraining(config= data_training_config)\n",
    "    data,target= data_training.load_data()\n",
    "    model= data_training.training_skeleton(data)\n",
    "    train_data,test_data,train_target,test_target= data_training.split_data(data, target)\n",
    "    checkpoint= data_training.checkpoint()\n",
    "    history= data_training.final_training(train_data, train_target, checkpoint, model)\n",
    "except Exception as e:\n",
    "    raise e"
   ]
  },
  {
   "cell_type": "code",
   "execution_count": 49,
   "metadata": {},
   "outputs": [
    {
     "name": "stdout",
     "output_type": "stream",
     "text": [
      "1/1 [==============================] - 0s 222ms/step\n"
     ]
    },
    {
     "data": {
      "text/plain": [
       "0.020628016"
      ]
     },
     "execution_count": 49,
     "metadata": {},
     "output_type": "execute_result"
    }
   ],
   "source": [
    "from sklearn.metrics import mean_squared_error\n",
    "predict= model.predict(test_data)\n",
    "mean_squared_error(predict, test_target)"
   ]
  },
  {
   "cell_type": "code",
   "execution_count": 50,
   "metadata": {},
   "outputs": [
    {
     "name": "stdout",
     "output_type": "stream",
     "text": [
      "1/1 [==============================] - 2s 2s/step - loss: 0.1344 - accuracy: 1.0000\n"
     ]
    },
    {
     "data": {
      "text/plain": [
       "[0.13444918394088745, 1.0]"
      ]
     },
     "execution_count": 50,
     "metadata": {},
     "output_type": "execute_result"
    }
   ],
   "source": [
    "model.evaluate(test_data,test_target)"
   ]
  },
  {
   "cell_type": "code",
   "execution_count": null,
   "metadata": {},
   "outputs": [],
   "source": []
  }
 ],
 "metadata": {
  "kernelspec": {
   "display_name": "mask",
   "language": "python",
   "name": "python3"
  },
  "language_info": {
   "codemirror_mode": {
    "name": "ipython",
    "version": 3
   },
   "file_extension": ".py",
   "mimetype": "text/x-python",
   "name": "python",
   "nbconvert_exporter": "python",
   "pygments_lexer": "ipython3",
   "version": "3.8.16"
  },
  "orig_nbformat": 4
 },
 "nbformat": 4,
 "nbformat_minor": 2
}
