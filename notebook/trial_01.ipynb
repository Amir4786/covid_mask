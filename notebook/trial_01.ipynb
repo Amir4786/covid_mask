{
 "cells": [
  {
   "cell_type": "code",
   "execution_count": 1,
   "metadata": {},
   "outputs": [
    {
     "data": {
      "text/plain": [
       "'c:\\\\Users\\\\hp\\\\Documents\\\\iNeuron_intern\\\\covid_mask'"
      ]
     },
     "execution_count": 1,
     "metadata": {},
     "output_type": "execute_result"
    }
   ],
   "source": [
    "import numpy as np\n",
    "from keras.utils import np_utils\n",
    "import os, cv2\n",
    "os.chdir(\"../\")\n",
    "os.getcwd()"
   ]
  },
  {
   "cell_type": "code",
   "execution_count": 2,
   "metadata": {},
   "outputs": [],
   "source": [
    "from covid_md.constant import *\n",
    "from covid_md.utils import read_yaml, create_directories"
   ]
  },
  {
   "cell_type": "code",
   "execution_count": 13,
   "metadata": {},
   "outputs": [],
   "source": [
    "from pathlib import Path\n",
    "from dataclasses import dataclass\n",
    "@dataclass(frozen= True)\n",
    "class DataPreprocessingConfig:\n",
    "    root_dir: Path\n",
    "    data_path: Path\n",
    "    preprocess_records: Path"
   ]
  },
  {
   "cell_type": "code",
   "execution_count": 30,
   "metadata": {},
   "outputs": [],
   "source": [
    "class ConfigurationManager:\n",
    "    def __init__(self, config_filepath= CONFIG_FILE_PATH, params_filepath= PARAMS_FILE_PATH):\n",
    "        self.config= read_yaml(config_filepath)\n",
    "        self.params= read_yaml(params_filepath)\n",
    "        create_directories([self.config.artifacts_root])\n",
    "    def data_preprocessing(self)->DataPreprocessingConfig:\n",
    "        config= self.config.data_preprocessing\n",
    "        create_directories([config.root_dir])\n",
    "        data_preprocessing_config= DataPreprocessingConfig(\n",
    "            root_dir= self.config.data_preprocessing.root_dir,\n",
    "            data_path= self.config.data_preprocessing.data_path,\n",
    "            preprocess_records= self.config.data_preprocessing.preprocess_records\n",
    "        )\n",
    "        return data_preprocessing_config"
   ]
  },
  {
   "cell_type": "code",
   "execution_count": 31,
   "metadata": {},
   "outputs": [],
   "source": [
    "class DataPreprocessing:\n",
    "    def __init__(self, config: DataPreprocessingConfig):\n",
    "        self.config= config\n",
    "    def data_prep(self):\n",
    "        img_size= 100\n",
    "        data= []\n",
    "        target= []\n",
    "        path= self.config.data_path\n",
    "        categories= os.listdir(path)\n",
    "        labels= [i for i in range(len(categories))]\n",
    "        labels_dict= dict(zip(categories, labels))\n",
    "        for category in categories:\n",
    "            folder_path= os.path.join(self.config.data_path, category)\n",
    "            img_names= os.listdir(folder_path)\n",
    "            for img_name in img_names:\n",
    "                img_path= os.path.join(folder_path, img_name)\n",
    "                img= cv2.imread(img_path)\n",
    "                try:\n",
    "                    gray= cv2.cvtColor(img, cv2.COLOR_BGR2GRAY)\n",
    "                    resized= cv2.resize(gray,(img_size,img_size))\n",
    "                    data.append(resized)\n",
    "                    target.append(labels_dict[category])\n",
    "                except Exception as e:\n",
    "                    raise e\n",
    "        os.chdir(self.config.preprocess_records)\n",
    "        data= np.array(data)/255\n",
    "        data= np.reshape(data,(data.shape[0],img_size,img_size,1))\n",
    "        target= np.array(target)\n",
    "        new_target= np_utils.to_categorical(target)\n",
    "        np.save('data', data)\n",
    "        np.save('target',new_target)"
   ]
  },
  {
   "cell_type": "markdown",
   "metadata": {},
   "source": []
  },
  {
   "cell_type": "code",
   "execution_count": 32,
   "metadata": {},
   "outputs": [],
   "source": [
    "try:\n",
    "    config= ConfigurationManager()\n",
    "    data_preprocessing_config= config.data_preprocessing()\n",
    "    data_preprocessing= DataPreprocessing(config= data_preprocessing_config)\n",
    "    data_preprocessing.data_prep()\n",
    "except Exception as e:\n",
    "    raise e"
   ]
  },
  {
   "cell_type": "code",
   "execution_count": 33,
   "metadata": {},
   "outputs": [
    {
     "data": {
      "text/plain": [
       "'c:\\\\Users\\\\hp\\\\Documents\\\\iNeuron_intern\\\\covid_mask\\\\artifacts\\\\data_preprocess'"
      ]
     },
     "execution_count": 33,
     "metadata": {},
     "output_type": "execute_result"
    }
   ],
   "source": [
    "os.getcwd()"
   ]
  },
  {
   "cell_type": "code",
   "execution_count": null,
   "metadata": {},
   "outputs": [],
   "source": []
  }
 ],
 "metadata": {
  "kernelspec": {
   "display_name": "mask",
   "language": "python",
   "name": "python3"
  },
  "language_info": {
   "codemirror_mode": {
    "name": "ipython",
    "version": 3
   },
   "file_extension": ".py",
   "mimetype": "text/x-python",
   "name": "python",
   "nbconvert_exporter": "python",
   "pygments_lexer": "ipython3",
   "version": "3.8.16"
  },
  "orig_nbformat": 4
 },
 "nbformat": 4,
 "nbformat_minor": 2
}
