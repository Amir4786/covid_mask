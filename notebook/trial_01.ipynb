{
 "cells": [
  {
   "cell_type": "code",
   "execution_count": 3,
   "metadata": {},
   "outputs": [
    {
     "data": {
      "text/plain": [
       "'c:\\\\Users\\\\hp\\\\Documents\\\\iNeuron_intern\\\\covid_mask'"
      ]
     },
     "execution_count": 3,
     "metadata": {},
     "output_type": "execute_result"
    }
   ],
   "source": [
    "import numpy as np\n",
    "from keras.utils import np_utils\n",
    "import os, cv2\n",
    "os.chdir(\"../\")\n",
    "os.getcwd()"
   ]
  },
  {
   "cell_type": "code",
   "execution_count": 4,
   "metadata": {},
   "outputs": [],
   "source": [
    "from covid_md.constant import *\n",
    "from covid_md.utils import read_yaml, create_directories"
   ]
  },
  {
   "cell_type": "code",
   "execution_count": 11,
   "metadata": {},
   "outputs": [],
   "source": [
    "from pathlib import Path\n",
    "from dataclasses import dataclass\n",
    "@dataclass(frozen= True)\n",
    "class DataPreprocessingConfig:\n",
    "    data_path: Path\n",
    "    saved_data_path: Path\n",
    "    saved_target_path: Path"
   ]
  },
  {
   "cell_type": "code",
   "execution_count": 12,
   "metadata": {},
   "outputs": [],
   "source": [
    "class ConfigurationManager:\n",
    "    def __init__(self, config_filepath= CONFIG_FILE_PATH, params_filepath= PARAMS_FILE_PATH):\n",
    "        self.config= read_yaml(config_filepath)\n",
    "        self.params= read_yaml(params_filepath)\n",
    "        create_directories([self.config.artifacts_root])\n",
    "    def data_preprocessing(self)->DataPreprocessingConfig:\n",
    "        config= self.config.data_preprocessing\n",
    "        #create_directories([config.root_dir])\n",
    "        data_preprocessing_config= DataPreprocessingConfig(\n",
    "            data_path= self.config.data_path,\n",
    "            saved_data_path= self.config.saved_data_path,\n",
    "            saved_target_path= self.config.saved_target_path\n",
    "        )\n",
    "        return data_preprocessing_config"
   ]
  },
  {
   "cell_type": "code",
   "execution_count": 13,
   "metadata": {},
   "outputs": [],
   "source": [
    "class DataPreprocessing:\n",
    "    def __init__(self, config: DataPreprocessingConfig):\n",
    "        self.config= config\n",
    "    def give_labels(self):\n",
    "        path= config.data_path\n",
    "        categories= os.listdirs(path)\n",
    "        labels= [i for i in range(len(categories))]\n",
    "        labels_dict= dict(zip(categories, labels))\n",
    "    def gray_color_img_data(self):\n",
    "        img_size= 100\n",
    "        data= []\n",
    "        target= []\n",
    "        for category in self.categories:\n",
    "            folder_path= os.path.join(self.config.data_path, category)\n",
    "            img_names= os.listdir(folder_path)\n",
    "            for img_name in img_names:\n",
    "                img_path= os.path.join(folder_path, img_name)\n",
    "                img= cv2.imread(img_path)\n",
    "                try:\n",
    "                    gray= cv2.cvtColor(img, cv2.COLOR_BGR2GRAY)\n",
    "                    resized= cv2.resize(gray,(img_size,img_size))\n",
    "                    data.append(resized)\n",
    "                    target.append(self.label_dict[category])\n",
    "                except Exception as e:\n",
    "                    raise e\n",
    "        data= np.array(data)/255\n",
    "        data= np.reshape(data,(data.shape[0],img_size,img_size,1))\n",
    "        target= np.array(target)\n",
    "        new_target= np_utils.to_categorical(target)\n",
    "    def save_new_data(self):\n",
    "        np.save(self.config.saved_data_path, self.data)\n",
    "        np.save(self.config.saved_target_path,self.new_target)"
   ]
  },
  {
   "cell_type": "markdown",
   "metadata": {},
   "source": []
  },
  {
   "cell_type": "code",
   "execution_count": 14,
   "metadata": {},
   "outputs": [
    {
     "name": "stdout",
     "output_type": "stream",
     "text": [
      "Unexpected exception formatting exception. Falling back to standard exception\n"
     ]
    },
    {
     "name": "stderr",
     "output_type": "stream",
     "text": [
      "Traceback (most recent call last):\n",
      "  File \"box\\box.py\", line 587, in box.box.Box.__getitem__\n",
      "KeyError: 'data_path'\n",
      "\n",
      "The above exception was the direct cause of the following exception:\n",
      "\n",
      "Traceback (most recent call last):\n",
      "  File \"box\\box.py\", line 620, in box.box.Box.__getattr__\n",
      "  File \"box\\box.py\", line 608, in box.box.Box.__getitem__\n",
      "box.exceptions.BoxKeyError: \"'data_path'\"\n",
      "\n",
      "During handling of the above exception, another exception occurred:\n",
      "\n",
      "Traceback (most recent call last):\n",
      "  File \"box\\box.py\", line 622, in box.box.Box.__getattr__\n",
      "AttributeError: 'ConfigBox' object has no attribute 'data_path'\n",
      "\n",
      "The above exception was the direct cause of the following exception:\n",
      "\n",
      "Traceback (most recent call last):\n",
      "  File \"box\\config_box.py\", line 28, in box.config_box.ConfigBox.__getattr__\n",
      "  File \"box\\box.py\", line 636, in box.box.Box.__getattr__\n",
      "box.exceptions.BoxKeyError: \"'ConfigBox' object has no attribute 'data_path'\"\n",
      "\n",
      "During handling of the above exception, another exception occurred:\n",
      "\n",
      "Traceback (most recent call last):\n",
      "  File \"box\\box.py\", line 587, in box.box.Box.__getitem__\n",
      "KeyError: 'data_path'\n",
      "\n",
      "The above exception was the direct cause of the following exception:\n",
      "\n",
      "Traceback (most recent call last):\n",
      "  File \"box\\box.py\", line 620, in box.box.Box.__getattr__\n",
      "  File \"box\\box.py\", line 608, in box.box.Box.__getitem__\n",
      "box.exceptions.BoxKeyError: \"'data_path'\"\n",
      "\n",
      "During handling of the above exception, another exception occurred:\n",
      "\n",
      "Traceback (most recent call last):\n",
      "  File \"box\\box.py\", line 622, in box.box.Box.__getattr__\n",
      "AttributeError: 'ConfigBox' object has no attribute 'data_path'\n",
      "\n",
      "The above exception was the direct cause of the following exception:\n",
      "\n",
      "Traceback (most recent call last):\n",
      "  File \"c:\\Users\\hp\\anaconda3\\envs\\mask\\lib\\site-packages\\IPython\\core\\interactiveshell.py\", line 3460, in run_code\n",
      "    exec(code_obj, self.user_global_ns, self.user_ns)\n",
      "  File \"C:\\Users\\hp\\AppData\\Local\\Temp\\ipykernel_15968\\3464802015.py\", line 9, in <module>\n",
      "    raise e\n",
      "  File \"C:\\Users\\hp\\AppData\\Local\\Temp\\ipykernel_15968\\3464802015.py\", line 3, in <module>\n",
      "    data_preprocessing_config= config.data_preprocessing()\n",
      "  File \"C:\\Users\\hp\\AppData\\Local\\Temp\\ipykernel_15968\\2018983286.py\", line 10, in data_preprocessing\n",
      "    data_path= self.config.data_path,\n",
      "  File \"box\\config_box.py\", line 30, in box.config_box.ConfigBox.__getattr__\n",
      "  File \"box\\box.py\", line 636, in box.box.Box.__getattr__\n",
      "box.exceptions.BoxKeyError: \"'ConfigBox' object has no attribute 'data_path'\"\n",
      "\n",
      "During handling of the above exception, another exception occurred:\n",
      "\n",
      "Traceback (most recent call last):\n",
      "  File \"c:\\Users\\hp\\anaconda3\\envs\\mask\\lib\\site-packages\\IPython\\core\\interactiveshell.py\", line 2057, in showtraceback\n",
      "    stb = self.InteractiveTB.structured_traceback(\n",
      "  File \"c:\\Users\\hp\\anaconda3\\envs\\mask\\lib\\site-packages\\IPython\\core\\ultratb.py\", line 1288, in structured_traceback\n",
      "    return FormattedTB.structured_traceback(\n",
      "  File \"c:\\Users\\hp\\anaconda3\\envs\\mask\\lib\\site-packages\\IPython\\core\\ultratb.py\", line 1177, in structured_traceback\n",
      "    return VerboseTB.structured_traceback(\n",
      "  File \"c:\\Users\\hp\\anaconda3\\envs\\mask\\lib\\site-packages\\IPython\\core\\ultratb.py\", line 1049, in structured_traceback\n",
      "    formatted_exceptions += self.format_exception_as_a_whole(etype, evalue, etb, lines_of_context,\n",
      "  File \"c:\\Users\\hp\\anaconda3\\envs\\mask\\lib\\site-packages\\IPython\\core\\ultratb.py\", line 935, in format_exception_as_a_whole\n",
      "    self.get_records(etb, number_of_lines_of_context, tb_offset) if etb else []\n",
      "  File \"c:\\Users\\hp\\anaconda3\\envs\\mask\\lib\\site-packages\\IPython\\core\\ultratb.py\", line 1003, in get_records\n",
      "    lines, first = inspect.getsourcelines(etb.tb_frame)\n",
      "  File \"c:\\Users\\hp\\anaconda3\\envs\\mask\\lib\\inspect.py\", line 979, in getsourcelines\n",
      "    lines, lnum = findsource(object)\n",
      "  File \"c:\\Users\\hp\\anaconda3\\envs\\mask\\lib\\inspect.py\", line 798, in findsource\n",
      "    raise OSError('could not get source code')\n",
      "OSError: could not get source code\n"
     ]
    }
   ],
   "source": [
    "try:\n",
    "    config= ConfigurationManager()\n",
    "    data_preprocessing_config= config.data_preprocessing()\n",
    "    data_preprocessing= DataPreprocessing(config= data_preprocesing_config)\n",
    "    data_preprocessing.give_labels()\n",
    "    data_preprocessing.gray_color_img_data()\n",
    "    data_preprocessing.save_new_data()\n",
    "except Exception as e:\n",
    "    raise e"
   ]
  },
  {
   "cell_type": "code",
   "execution_count": null,
   "metadata": {},
   "outputs": [],
   "source": []
  }
 ],
 "metadata": {
  "kernelspec": {
   "display_name": "mask",
   "language": "python",
   "name": "python3"
  },
  "language_info": {
   "codemirror_mode": {
    "name": "ipython",
    "version": 3
   },
   "file_extension": ".py",
   "mimetype": "text/x-python",
   "name": "python",
   "nbconvert_exporter": "python",
   "pygments_lexer": "ipython3",
   "version": "3.8.16"
  },
  "orig_nbformat": 4
 },
 "nbformat": 4,
 "nbformat_minor": 2
}
